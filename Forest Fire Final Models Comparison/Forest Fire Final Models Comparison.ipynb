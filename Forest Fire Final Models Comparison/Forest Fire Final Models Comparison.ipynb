{
 "cells": [
  {
   "cell_type": "markdown",
   "metadata": {},
   "source": [
    "## 1. Libraries to Load & Read csv File"
   ]
  },
  {
   "cell_type": "code",
   "execution_count": 1,
   "metadata": {},
   "outputs": [],
   "source": [
    "import pandas as pd\n",
    "import numpy as np\n",
    "import matplotlib.pyplot as plt\n",
    "import seaborn as sns\n",
    "from scipy import stats\n",
    "import ast \n",
    "\n",
    "SVR = pd.read_csv('SVR_result.csv')\n",
    "ANN = pd.read_csv('ANN_result.csv')\n",
    "RFR = pd.read_csv('random_forest_polyregression.csv')\n",
    "Poly = pd.read_csv('polyregression.csv')\n",
    "PCA_poly = pd.read_csv('PCA.csv')\n",
    "tSNE_poly = pd.read_csv('tSNE.csv')\n",
    "MDS_poly = pd.read_csv('MDS.csv')"
   ]
  },
  {
   "cell_type": "markdown",
   "metadata": {},
   "source": [
    "## 2. Compute the Percentage of Class0 to Class4 for All Folders "
   ]
  },
  {
   "cell_type": "code",
   "execution_count": 2,
   "metadata": {},
   "outputs": [
    {
     "name": "stdout",
     "output_type": "stream",
     "text": [
      "[[0, 0, 0, 0, 0, 0, 0, 0, 0, 0, 0, 0, 0, 0, 0, 0, 0, 0, 0, 0, 0, 0, 0, 0, 1, 1, 1, 1, 1, 1, 1, 1, 1, 1, 1, 1, 1, 1, 1, 1, 1, 1, 1, 1, 1, 1, 2, 2, 2, 2, 2, 3], [0, 0, 0, 0, 0, 0, 0, 0, 0, 0, 0, 0, 0, 0, 0, 0, 0, 0, 0, 0, 0, 1, 1, 1, 1, 1, 1, 1, 1, 1, 1, 1, 1, 1, 1, 1, 1, 1, 1, 1, 2, 2, 2, 2, 2, 2, 2, 2, 2, 2, 3, 3], [0, 0, 0, 0, 0, 0, 0, 0, 0, 0, 0, 0, 0, 0, 0, 0, 0, 0, 0, 0, 0, 0, 0, 0, 0, 0, 1, 1, 1, 1, 1, 1, 1, 1, 1, 1, 1, 1, 1, 2, 2, 2, 2, 2, 2, 2, 2, 2, 2, 2, 3, 3], [0, 0, 0, 0, 0, 0, 0, 0, 0, 0, 0, 0, 0, 0, 0, 0, 0, 0, 0, 0, 0, 0, 1, 1, 1, 1, 1, 1, 1, 1, 1, 1, 1, 1, 1, 1, 1, 1, 1, 1, 1, 1, 1, 1, 1, 2, 2, 2, 2, 2, 2, 3], [0, 0, 0, 0, 0, 0, 0, 0, 0, 0, 0, 0, 0, 0, 0, 0, 0, 0, 0, 0, 0, 0, 0, 0, 0, 0, 1, 1, 1, 1, 1, 1, 1, 1, 1, 1, 1, 1, 1, 1, 1, 1, 1, 1, 2, 2, 2, 2, 2, 2, 2, 3], [0, 0, 0, 0, 0, 0, 0, 0, 0, 0, 0, 0, 0, 0, 0, 0, 0, 0, 0, 0, 0, 0, 0, 0, 0, 0, 0, 0, 1, 1, 1, 1, 1, 1, 1, 1, 1, 1, 1, 1, 1, 1, 2, 2, 2, 2, 2, 2, 2, 2, 2, 3], [0, 0, 0, 0, 0, 0, 0, 0, 0, 0, 0, 0, 0, 0, 0, 0, 0, 0, 0, 0, 0, 0, 0, 0, 0, 1, 1, 1, 1, 1, 1, 1, 1, 1, 1, 1, 1, 1, 1, 1, 2, 2, 2, 2, 2, 2, 2, 2, 2, 2, 2, 2], [0, 0, 0, 0, 0, 0, 0, 0, 0, 0, 0, 0, 0, 0, 0, 0, 0, 0, 0, 0, 0, 0, 0, 1, 1, 1, 1, 1, 1, 1, 1, 1, 1, 1, 1, 1, 1, 1, 1, 1, 1, 1, 2, 2, 2, 2, 2, 2, 2, 2, 3], [0, 0, 0, 0, 0, 0, 0, 0, 0, 0, 0, 0, 0, 0, 0, 0, 0, 0, 0, 0, 0, 0, 0, 0, 0, 0, 0, 0, 0, 0, 0, 1, 1, 1, 1, 1, 1, 1, 1, 1, 1, 1, 1, 1, 1, 2, 2, 2, 2, 2, 3], [0, 0, 0, 0, 0, 0, 0, 0, 0, 0, 0, 0, 0, 0, 0, 0, 0, 0, 0, 0, 0, 1, 1, 1, 1, 1, 1, 1, 1, 1, 1, 1, 1, 1, 1, 1, 1, 1, 1, 2, 2, 2, 2, 2, 2, 2, 2, 2, 2, 2, 4]]\n"
     ]
    },
    {
     "data": {
      "text/html": [
       "<div>\n",
       "<style scoped>\n",
       "    .dataframe tbody tr th:only-of-type {\n",
       "        vertical-align: middle;\n",
       "    }\n",
       "\n",
       "    .dataframe tbody tr th {\n",
       "        vertical-align: top;\n",
       "    }\n",
       "\n",
       "    .dataframe thead th {\n",
       "        text-align: right;\n",
       "    }\n",
       "</style>\n",
       "<table border=\"1\" class=\"dataframe\">\n",
       "  <thead>\n",
       "    <tr style=\"text-align: right;\">\n",
       "      <th></th>\n",
       "      <th>0</th>\n",
       "      <th>1</th>\n",
       "      <th>2</th>\n",
       "      <th>3</th>\n",
       "      <th>4</th>\n",
       "    </tr>\n",
       "  </thead>\n",
       "  <tbody>\n",
       "    <tr>\n",
       "      <th>0</th>\n",
       "      <td>0.461538</td>\n",
       "      <td>0.423077</td>\n",
       "      <td>0.096154</td>\n",
       "      <td>0.019231</td>\n",
       "      <td>0.000000</td>\n",
       "    </tr>\n",
       "    <tr>\n",
       "      <th>1</th>\n",
       "      <td>0.403846</td>\n",
       "      <td>0.365385</td>\n",
       "      <td>0.192308</td>\n",
       "      <td>0.038462</td>\n",
       "      <td>0.000000</td>\n",
       "    </tr>\n",
       "    <tr>\n",
       "      <th>2</th>\n",
       "      <td>0.500000</td>\n",
       "      <td>0.250000</td>\n",
       "      <td>0.211538</td>\n",
       "      <td>0.038462</td>\n",
       "      <td>0.000000</td>\n",
       "    </tr>\n",
       "    <tr>\n",
       "      <th>3</th>\n",
       "      <td>0.423077</td>\n",
       "      <td>0.442308</td>\n",
       "      <td>0.115385</td>\n",
       "      <td>0.019231</td>\n",
       "      <td>0.000000</td>\n",
       "    </tr>\n",
       "    <tr>\n",
       "      <th>4</th>\n",
       "      <td>0.500000</td>\n",
       "      <td>0.346154</td>\n",
       "      <td>0.134615</td>\n",
       "      <td>0.019231</td>\n",
       "      <td>0.000000</td>\n",
       "    </tr>\n",
       "    <tr>\n",
       "      <th>5</th>\n",
       "      <td>0.538462</td>\n",
       "      <td>0.269231</td>\n",
       "      <td>0.173077</td>\n",
       "      <td>0.019231</td>\n",
       "      <td>0.000000</td>\n",
       "    </tr>\n",
       "    <tr>\n",
       "      <th>6</th>\n",
       "      <td>0.480769</td>\n",
       "      <td>0.288462</td>\n",
       "      <td>0.230769</td>\n",
       "      <td>0.000000</td>\n",
       "      <td>0.000000</td>\n",
       "    </tr>\n",
       "    <tr>\n",
       "      <th>7</th>\n",
       "      <td>0.450980</td>\n",
       "      <td>0.372549</td>\n",
       "      <td>0.156863</td>\n",
       "      <td>0.019608</td>\n",
       "      <td>0.000000</td>\n",
       "    </tr>\n",
       "    <tr>\n",
       "      <th>8</th>\n",
       "      <td>0.607843</td>\n",
       "      <td>0.274510</td>\n",
       "      <td>0.098039</td>\n",
       "      <td>0.019608</td>\n",
       "      <td>0.000000</td>\n",
       "    </tr>\n",
       "    <tr>\n",
       "      <th>9</th>\n",
       "      <td>0.411765</td>\n",
       "      <td>0.352941</td>\n",
       "      <td>0.215686</td>\n",
       "      <td>0.000000</td>\n",
       "      <td>0.019608</td>\n",
       "    </tr>\n",
       "  </tbody>\n",
       "</table>\n",
       "</div>"
      ],
      "text/plain": [
       "          0         1         2         3         4\n",
       "0  0.461538  0.423077  0.096154  0.019231  0.000000\n",
       "1  0.403846  0.365385  0.192308  0.038462  0.000000\n",
       "2  0.500000  0.250000  0.211538  0.038462  0.000000\n",
       "3  0.423077  0.442308  0.115385  0.019231  0.000000\n",
       "4  0.500000  0.346154  0.134615  0.019231  0.000000\n",
       "5  0.538462  0.269231  0.173077  0.019231  0.000000\n",
       "6  0.480769  0.288462  0.230769  0.000000  0.000000\n",
       "7  0.450980  0.372549  0.156863  0.019608  0.000000\n",
       "8  0.607843  0.274510  0.098039  0.019608  0.000000\n",
       "9  0.411765  0.352941  0.215686  0.000000  0.019608"
      ]
     },
     "execution_count": 2,
     "metadata": {},
     "output_type": "execute_result"
    }
   ],
   "source": [
    "Folder = []\n",
    "for i in range(10):\n",
    "    Folder.append(ast.literal_eval(RFR['y_test'][i]))\n",
    "\n",
    "New_folder = []\n",
    "for f in Folder:\n",
    "    \n",
    "    nwf = []\n",
    "    for i in f:\n",
    "        if i == 0:\n",
    "            nwf.append(0)\n",
    "        elif i > 0 and i <= 10:\n",
    "            nwf.append(1)\n",
    "        elif i > 10 and i <= 100:\n",
    "            nwf.append(2)\n",
    "        elif i > 100 and i <= 1000:\n",
    "            nwf.append(3)\n",
    "        elif i > 1000:\n",
    "            nwf.append(4)\n",
    "        else:\n",
    "            pass\n",
    "    New_folder.append(nwf)\n",
    "    \n",
    "print(New_folder)\n",
    "\n",
    "folder_prob = []\n",
    "for i in range(10):\n",
    "    \n",
    "    total = New_folder[i].count(0) + New_folder[i].count(1) + New_folder[i].count(2) + New_folder[i].count(3) + New_folder[i].count(4)\n",
    "    prob0 = New_folder[i].count(0)/total\n",
    "    prob1 = New_folder[i].count(1)/total\n",
    "    prob2 = New_folder[i].count(2)/total\n",
    "    prob3 = New_folder[i].count(3)/total\n",
    "    prob4 = New_folder[i].count(4)/total\n",
    "    folder_prob.append([prob0,prob1,prob2,prob3,prob4])\n",
    "    \n",
    "folder_prob = pd.DataFrame(folder_prob, columns=[0,1,2,3,4])\n",
    "folder_prob"
   ]
  },
  {
   "cell_type": "code",
   "execution_count": 3,
   "metadata": {},
   "outputs": [
    {
     "data": {
      "image/png": "[encoded data removed]",
      "text/plain": [
       "<Figure size 432x432 with 1 Axes>"
      ]
     },
     "metadata": {
      "needs_background": "light"
     },
     "output_type": "display_data"
    }
   ],
   "source": [
    "a = 0.8\n",
    "size=10\n",
    "fig = plt.figure(figsize=(6,6))\n",
    "plt.scatter(folder_prob[0],ANN['MAE'],s=size,alpha=a,label='ANN')\n",
    "plt.scatter(folder_prob[0],SVR['MAE'],s=size,alpha=a,label='SVR')\n",
    "plt.scatter(folder_prob[0],RFR['MAE'],s=size,alpha=a,label='RFR')\n",
    "plt.legend(loc='best')\n",
    "plt.xlabel('Percentage of 0 in a folder')\n",
    "plt.ylabel('MAE')\n",
    "plt.title('Model Comparison by the percentage of 0')\n",
    "plt.show()"
   ]
  },
  {
   "cell_type": "code",
   "execution_count": 4,
   "metadata": {},
   "outputs": [
    {
     "data": {
      "image/png": "[encoded data removed]",
      "text/plain": [
       "<Figure size 936x936 with 4 Axes>"
      ]
     },
     "metadata": {
      "needs_background": "light"
     },
     "output_type": "display_data"
    }
   ],
   "source": [
    "fig = plt.figure(figsize=(13,13))\n",
    "for i in range(1,5):\n",
    "    \n",
    "    plt.subplot(220+i)\n",
    "    plt.scatter(folder_prob[i],ANN['MAE'],s=size,alpha=a,label='ANN')\n",
    "    plt.scatter(folder_prob[i],SVR['MAE'],s=size,alpha=a,label='SVR')\n",
    "    plt.scatter(folder_prob[i],RFR['MAE'],s=size,alpha=a,label='RFR')\n",
    "    plt.legend(loc='best')\n",
    "    plt.xlabel('Percentage of '+str(i)+' in a folder')\n",
    "    plt.ylabel('MAE')\n",
    "    plt.title('Model Comparison by the percentage of '+str(i))\n",
    "\n",
    "plt.show()"
   ]
  },
  {
   "cell_type": "markdown",
   "metadata": {},
   "source": [
    "## 3. One-Sided Paired t-test for Polynomial Regressions Comparison (Poly, PCA Poly, t-SNE Poly, MDS Poly, RFP)"
   ]
  },
  {
   "cell_type": "markdown",
   "metadata": {},
   "source": [
    "## 3.1 MAE"
   ]
  },
  {
   "cell_type": "code",
   "execution_count": 5,
   "metadata": {
    "scrolled": true
   },
   "outputs": [
    {
     "name": "stdout",
     "output_type": "stream",
     "text": [
      "The mean of MAE in Poly: 413.48274671295604\n",
      "The mean of MAE in PCA-Poly: 18.6388230405396\n",
      "The mean of MAE in tSNE-Poly: 501.977823162939\n",
      "The mean of MAE in MDS-Poly: 239.96762131327174\n",
      "The mean of MAE in RF-Poly: 15.555962392707409\n"
     ]
    }
   ],
   "source": [
    "print('The mean of MAE in Poly:',np.mean(Poly['MAE']))\n",
    "print('The mean of MAE in PCA-Poly:',np.mean(PCA_poly['MAE']))\n",
    "print('The mean of MAE in tSNE-Poly:',np.mean(tSNE_poly['MAE']))\n",
    "print('The mean of MAE in MDS-Poly:',np.mean(MDS_poly['MAE']))\n",
    "print('The mean of MAE in RF-Poly:',np.mean(RFR['MAE']))"
   ]
  },
  {
   "cell_type": "code",
   "execution_count": 6,
   "metadata": {
    "scrolled": true
   },
   "outputs": [
    {
     "data": {
      "text/html": [
       "<div>\n",
       "<style scoped>\n",
       "    .dataframe tbody tr th:only-of-type {\n",
       "        vertical-align: middle;\n",
       "    }\n",
       "\n",
       "    .dataframe tbody tr th {\n",
       "        vertical-align: top;\n",
       "    }\n",
       "\n",
       "    .dataframe thead th {\n",
       "        text-align: right;\n",
       "    }\n",
       "</style>\n",
       "<table border=\"1\" class=\"dataframe\">\n",
       "  <thead>\n",
       "    <tr style=\"text-align: right;\">\n",
       "      <th></th>\n",
       "      <th>Poly</th>\n",
       "      <th>PCA</th>\n",
       "      <th>tSNE</th>\n",
       "      <th>MDS</th>\n",
       "      <th>RFR</th>\n",
       "    </tr>\n",
       "  </thead>\n",
       "  <tbody>\n",
       "    <tr>\n",
       "      <th>Poly</th>\n",
       "      <td>NaN</td>\n",
       "      <td>0.000010</td>\n",
       "      <td>0.249488</td>\n",
       "      <td>0.003968</td>\n",
       "      <td>0.000009</td>\n",
       "    </tr>\n",
       "    <tr>\n",
       "      <th>PCA</th>\n",
       "      <td>0.000010</td>\n",
       "      <td>NaN</td>\n",
       "      <td>0.004453</td>\n",
       "      <td>0.000701</td>\n",
       "      <td>0.064323</td>\n",
       "    </tr>\n",
       "    <tr>\n",
       "      <th>tSNE</th>\n",
       "      <td>0.249488</td>\n",
       "      <td>0.004453</td>\n",
       "      <td>NaN</td>\n",
       "      <td>0.044377</td>\n",
       "      <td>0.004244</td>\n",
       "    </tr>\n",
       "    <tr>\n",
       "      <th>MDS</th>\n",
       "      <td>0.003968</td>\n",
       "      <td>0.000701</td>\n",
       "      <td>0.044377</td>\n",
       "      <td>NaN</td>\n",
       "      <td>0.000631</td>\n",
       "    </tr>\n",
       "    <tr>\n",
       "      <th>RFR</th>\n",
       "      <td>0.000009</td>\n",
       "      <td>0.064323</td>\n",
       "      <td>0.004244</td>\n",
       "      <td>0.000631</td>\n",
       "      <td>NaN</td>\n",
       "    </tr>\n",
       "  </tbody>\n",
       "</table>\n",
       "</div>"
      ],
      "text/plain": [
       "          Poly       PCA      tSNE       MDS       RFR\n",
       "Poly       NaN  0.000010  0.249488  0.003968  0.000009\n",
       "PCA   0.000010       NaN  0.004453  0.000701  0.064323\n",
       "tSNE  0.249488  0.004453       NaN  0.044377  0.004244\n",
       "MDS   0.003968  0.000701  0.044377       NaN  0.000631\n",
       "RFR   0.000009  0.064323  0.004244  0.000631       NaN"
      ]
     },
     "execution_count": 6,
     "metadata": {},
     "output_type": "execute_result"
    }
   ],
   "source": [
    "Classifiers = [Poly['MAE'],PCA_poly['MAE'],tSNE_poly['MAE'],MDS_poly['MAE'],RFR['MAE']]\n",
    "ClassifiersNames = ['Poly','PCA','tSNE','MDS','RFR']\n",
    "col_pvalue = []\n",
    "for model_i in Classifiers:\n",
    "    row_pvalue = []\n",
    "    for model_j in Classifiers:\n",
    "\n",
    "        c_pvalue = stats.ttest_rel(model_i, model_j).pvalue*0.5\n",
    "        row_pvalue.append(c_pvalue)\n",
    "    col_pvalue.append(row_pvalue)\n",
    "    \n",
    "classifiers_pvalue = pd.DataFrame(col_pvalue, columns=ClassifiersNames, index=ClassifiersNames)\n",
    "classifiers_pvalue"
   ]
  },
  {
   "cell_type": "code",
   "execution_count": 7,
   "metadata": {
    "scrolled": true
   },
   "outputs": [
    {
     "name": "stderr",
     "output_type": "stream",
     "text": [
      "/Users/john_stuart_mill/opt/anaconda3/lib/python3.7/site-packages/ipykernel_launcher.py:1: RuntimeWarning: invalid value encountered in less_equal\n",
      "  \"\"\"Entry point for launching an IPython kernel.\n"
     ]
    },
    {
     "data": {
      "image/png": "[encoded data removed]",
      "text/plain": [
       "<Figure size 396x396 with 2 Axes>"
      ]
     },
     "metadata": {
      "needs_background": "light"
     },
     "output_type": "display_data"
    }
   ],
   "source": [
    "binary_value = pd.DataFrame(np.where(classifiers_pvalue.values <= 0.05,1,0), columns=ClassifiersNames, index=ClassifiersNames)\n",
    "f, ax = plt.subplots(figsize=(5.5, 5.5))\n",
    "plt.title('One-Sided Paired t-test for MAE')\n",
    "mask = np.zeros_like(binary_value, dtype=np.bool)\n",
    "mask[np.triu_indices_from(mask)] = True\n",
    "\n",
    "ax = sns.heatmap(binary_value, cmap=\"coolwarm\",square=True, annot = True, linecolor='white',linewidths=1.5, mask=mask)"
   ]
  },
  {
   "cell_type": "markdown",
   "metadata": {},
   "source": [
    "## 3.2 MSE"
   ]
  },
  {
   "cell_type": "code",
   "execution_count": 8,
   "metadata": {
    "scrolled": true
   },
   "outputs": [
    {
     "name": "stdout",
     "output_type": "stream",
     "text": [
      "The mean of MSE in Poly: 1133551.3475656104\n",
      "The mean of MSE in PCA-Poly: 4078.1120582948556\n",
      "The mean of MSE in tSNE-Poly: 1151470.7542310008\n",
      "The mean of MSE in MDS-Poly: 301495.66828905296\n",
      "The mean of MSE in RF-Poly: 6173.867516390568\n"
     ]
    }
   ],
   "source": [
    "print('The mean of MSE in Poly:',np.mean(Poly['MSE']))\n",
    "print('The mean of MSE in PCA-Poly:',np.mean(PCA_poly['MSE']))\n",
    "print('The mean of MSE in tSNE-Poly:',np.mean(tSNE_poly['MSE']))\n",
    "print('The mean of MSE in MDS-Poly:',np.mean(MDS_poly['MSE']))\n",
    "print('The mean of MSE in RF-Poly:',np.mean(RFR['MSE']))"
   ]
  },
  {
   "cell_type": "code",
   "execution_count": 9,
   "metadata": {},
   "outputs": [
    {
     "data": {
      "text/html": [
       "<div>\n",
       "<style scoped>\n",
       "    .dataframe tbody tr th:only-of-type {\n",
       "        vertical-align: middle;\n",
       "    }\n",
       "\n",
       "    .dataframe tbody tr th {\n",
       "        vertical-align: top;\n",
       "    }\n",
       "\n",
       "    .dataframe thead th {\n",
       "        text-align: right;\n",
       "    }\n",
       "</style>\n",
       "<table border=\"1\" class=\"dataframe\">\n",
       "  <thead>\n",
       "    <tr style=\"text-align: right;\">\n",
       "      <th></th>\n",
       "      <th>Poly</th>\n",
       "      <th>PCA</th>\n",
       "      <th>tSNE</th>\n",
       "      <th>MDS</th>\n",
       "      <th>RFR</th>\n",
       "    </tr>\n",
       "  </thead>\n",
       "  <tbody>\n",
       "    <tr>\n",
       "      <th>Poly</th>\n",
       "      <td>NaN</td>\n",
       "      <td>0.024894</td>\n",
       "      <td>0.489535</td>\n",
       "      <td>0.050279</td>\n",
       "      <td>0.025112</td>\n",
       "    </tr>\n",
       "    <tr>\n",
       "      <th>PCA</th>\n",
       "      <td>0.024894</td>\n",
       "      <td>NaN</td>\n",
       "      <td>0.016044</td>\n",
       "      <td>0.005479</td>\n",
       "      <td>0.186489</td>\n",
       "    </tr>\n",
       "    <tr>\n",
       "      <th>tSNE</th>\n",
       "      <td>0.489535</td>\n",
       "      <td>0.016044</td>\n",
       "      <td>NaN</td>\n",
       "      <td>0.041141</td>\n",
       "      <td>0.016176</td>\n",
       "    </tr>\n",
       "    <tr>\n",
       "      <th>MDS</th>\n",
       "      <td>0.050279</td>\n",
       "      <td>0.005479</td>\n",
       "      <td>0.041141</td>\n",
       "      <td>NaN</td>\n",
       "      <td>0.005581</td>\n",
       "    </tr>\n",
       "    <tr>\n",
       "      <th>RFR</th>\n",
       "      <td>0.025112</td>\n",
       "      <td>0.186489</td>\n",
       "      <td>0.016176</td>\n",
       "      <td>0.005581</td>\n",
       "      <td>NaN</td>\n",
       "    </tr>\n",
       "  </tbody>\n",
       "</table>\n",
       "</div>"
      ],
      "text/plain": [
       "          Poly       PCA      tSNE       MDS       RFR\n",
       "Poly       NaN  0.024894  0.489535  0.050279  0.025112\n",
       "PCA   0.024894       NaN  0.016044  0.005479  0.186489\n",
       "tSNE  0.489535  0.016044       NaN  0.041141  0.016176\n",
       "MDS   0.050279  0.005479  0.041141       NaN  0.005581\n",
       "RFR   0.025112  0.186489  0.016176  0.005581       NaN"
      ]
     },
     "execution_count": 9,
     "metadata": {},
     "output_type": "execute_result"
    }
   ],
   "source": [
    "Classifiers = [Poly['MSE'],PCA_poly['MSE'],tSNE_poly['MSE'],MDS_poly['MSE'],RFR['MSE']]\n",
    "ClassifiersNames = ['Poly','PCA','tSNE','MDS','RFR']\n",
    "col_pvalue = []\n",
    "for model_i in Classifiers:\n",
    "    row_pvalue = []\n",
    "    for model_j in Classifiers:\n",
    "\n",
    "        c_pvalue = stats.ttest_rel(model_i, model_j).pvalue*0.5\n",
    "        row_pvalue.append(c_pvalue)\n",
    "    col_pvalue.append(row_pvalue)\n",
    "    \n",
    "classifiers_pvalue = pd.DataFrame(col_pvalue, columns=ClassifiersNames, index=ClassifiersNames)\n",
    "classifiers_pvalue"
   ]
  },
  {
   "cell_type": "code",
   "execution_count": 10,
   "metadata": {
    "scrolled": true
   },
   "outputs": [
    {
     "name": "stderr",
     "output_type": "stream",
     "text": [
      "/Users/john_stuart_mill/opt/anaconda3/lib/python3.7/site-packages/ipykernel_launcher.py:1: RuntimeWarning: invalid value encountered in less_equal\n",
      "  \"\"\"Entry point for launching an IPython kernel.\n"
     ]
    },
    {
     "data": {
      "image/png": "[encoded data removed]",
      "text/plain": [
       "<Figure size 396x396 with 2 Axes>"
      ]
     },
     "metadata": {
      "needs_background": "light"
     },
     "output_type": "display_data"
    }
   ],
   "source": [
    "binary_value = pd.DataFrame(np.where(classifiers_pvalue.values <= 0.05,1,0), columns=ClassifiersNames, index=ClassifiersNames)\n",
    "f, ax = plt.subplots(figsize=(5.5, 5.5))\n",
    "plt.title('One-Sided Paired t-test for MSE')\n",
    "mask = np.zeros_like(binary_value, dtype=np.bool)\n",
    "mask[np.triu_indices_from(mask)] = True\n",
    "\n",
    "ax = sns.heatmap(binary_value, cmap=\"coolwarm\",square=True, annot = True, linecolor='white',linewidths=1.5, mask=mask)"
   ]
  },
  {
   "cell_type": "markdown",
   "metadata": {},
   "source": [
    "## 4. One-Sided Paired t-test for ANN, SVR, & RFP"
   ]
  },
  {
   "cell_type": "markdown",
   "metadata": {},
   "source": [
    "## 4.1 MAE"
   ]
  },
  {
   "cell_type": "code",
   "execution_count": 11,
   "metadata": {},
   "outputs": [
    {
     "name": "stdout",
     "output_type": "stream",
     "text": [
      "The mean of MAE in ANN: 12.883730050863004\n",
      "The mean of MAE in SVR: 12.793327082768837\n",
      "The mean of MAE in RFR: 15.555962392707409\n",
      "The median of MAE in ANN: 9.688946666488283\n",
      "The median of MAE in SVR: 9.611611627805438\n",
      "The median of MAE in RFR: 14.738461538461536\n"
     ]
    }
   ],
   "source": [
    "print('The mean of MAE in ANN:',np.mean(ANN['MAE']))\n",
    "print('The mean of MAE in SVR:',np.mean(SVR['MAE']))\n",
    "print('The mean of MAE in RFR:',np.mean(RFR['MAE']))\n",
    "print('The median of MAE in ANN:',np.median(ANN['MAE']))\n",
    "print('The median of MAE in SVR:',np.median(SVR['MAE']))\n",
    "print('The median of MAE in RFR:',np.median(RFR['MAE']))"
   ]
  },
  {
   "cell_type": "code",
   "execution_count": 12,
   "metadata": {},
   "outputs": [
    {
     "data": {
      "text/plain": [
       "[Text(0, 0, 'ANN'), Text(0, 0, 'SVR'), Text(0, 0, 'RFR')]"
      ]
     },
     "execution_count": 12,
     "metadata": {},
     "output_type": "execute_result"
    },
    {
     "data": {
      "image/png": "[encoded data removed]",
      "text/plain": [
       "<Figure size 648x432 with 1 Axes>"
      ]
     },
     "metadata": {
      "needs_background": "light"
     },
     "output_type": "display_data"
    }
   ],
   "source": [
    "MAE_box = [ANN['MAE'],SVR['MAE'],RFR['MAE']]\n",
    "fig = plt.figure(1, figsize=(9, 6))\n",
    "fig.suptitle('MAE')\n",
    "ax = fig.add_subplot(111)\n",
    "\n",
    "bp = ax.boxplot(MAE_box, patch_artist=True)\n",
    "for box in bp['boxes']:\n",
    "    # change outline color\n",
    "    box.set( color='#7570b3', linewidth=2)\n",
    "    # change fill color\n",
    "    box.set( facecolor = '#1b9e77' )\n",
    "\n",
    "## change color and linewidth of the whiskers\n",
    "for whisker in bp['whiskers']:\n",
    "    whisker.set(color='#7570b3', linewidth=2)\n",
    "\n",
    "## change color and linewidth of the caps\n",
    "for cap in bp['caps']:\n",
    "    cap.set(color='#7570b3', linewidth=2)\n",
    "\n",
    "## change color and linewidth of the medians\n",
    "for median in bp['medians']:\n",
    "    median.set(color='#b2df8a', linewidth=2)\n",
    "\n",
    "## change the style of fliers and their fill\n",
    "for flier in bp['fliers']:\n",
    "    flier.set(marker='o', color='#f000ff')\n",
    "    \n",
    "ax.set_xticklabels(['ANN', 'SVR', 'RFR', 'PCA'])"
   ]
  },
  {
   "cell_type": "code",
   "execution_count": 13,
   "metadata": {},
   "outputs": [
    {
     "data": {
      "text/html": [
       "<div>\n",
       "<style scoped>\n",
       "    .dataframe tbody tr th:only-of-type {\n",
       "        vertical-align: middle;\n",
       "    }\n",
       "\n",
       "    .dataframe tbody tr th {\n",
       "        vertical-align: top;\n",
       "    }\n",
       "\n",
       "    .dataframe thead th {\n",
       "        text-align: right;\n",
       "    }\n",
       "</style>\n",
       "<table border=\"1\" class=\"dataframe\">\n",
       "  <thead>\n",
       "    <tr style=\"text-align: right;\">\n",
       "      <th></th>\n",
       "      <th>ANN</th>\n",
       "      <th>SVR</th>\n",
       "      <th>RFR</th>\n",
       "    </tr>\n",
       "  </thead>\n",
       "  <tbody>\n",
       "    <tr>\n",
       "      <th>ANN</th>\n",
       "      <td>NaN</td>\n",
       "      <td>0.044851</td>\n",
       "      <td>0.083538</td>\n",
       "    </tr>\n",
       "    <tr>\n",
       "      <th>SVR</th>\n",
       "      <td>0.044851</td>\n",
       "      <td>NaN</td>\n",
       "      <td>0.078320</td>\n",
       "    </tr>\n",
       "    <tr>\n",
       "      <th>RFR</th>\n",
       "      <td>0.083538</td>\n",
       "      <td>0.078320</td>\n",
       "      <td>NaN</td>\n",
       "    </tr>\n",
       "  </tbody>\n",
       "</table>\n",
       "</div>"
      ],
      "text/plain": [
       "          ANN       SVR       RFR\n",
       "ANN       NaN  0.044851  0.083538\n",
       "SVR  0.044851       NaN  0.078320\n",
       "RFR  0.083538  0.078320       NaN"
      ]
     },
     "execution_count": 13,
     "metadata": {},
     "output_type": "execute_result"
    }
   ],
   "source": [
    "Classifiers = [ANN['MAE'],SVR['MAE'],RFR['MAE']]\n",
    "ClassifiersNames = ['ANN','SVR','RFR']\n",
    "col_pvalue = []\n",
    "for model_i in Classifiers:\n",
    "    row_pvalue = []\n",
    "    for model_j in Classifiers:\n",
    "\n",
    "        c_pvalue = stats.ttest_rel(model_i, model_j).pvalue*0.5\n",
    "        row_pvalue.append(c_pvalue)\n",
    "    col_pvalue.append(row_pvalue)\n",
    "    \n",
    "classifiers_pvalue = pd.DataFrame(col_pvalue, columns=ClassifiersNames, index=ClassifiersNames)\n",
    "classifiers_pvalue"
   ]
  },
  {
   "cell_type": "code",
   "execution_count": 14,
   "metadata": {},
   "outputs": [
    {
     "name": "stderr",
     "output_type": "stream",
     "text": [
      "/Users/john_stuart_mill/opt/anaconda3/lib/python3.7/site-packages/ipykernel_launcher.py:1: RuntimeWarning: invalid value encountered in less_equal\n",
      "  \"\"\"Entry point for launching an IPython kernel.\n"
     ]
    },
    {
     "data": {
      "image/png": "[encoded data removed]",
      "text/plain": [
       "<Figure size 396x396 with 2 Axes>"
      ]
     },
     "metadata": {
      "needs_background": "light"
     },
     "output_type": "display_data"
    }
   ],
   "source": [
    "binary_value = pd.DataFrame(np.where(classifiers_pvalue.values <= 0.05,1,0), columns=ClassifiersNames, index=ClassifiersNames)\n",
    "f, ax = plt.subplots(figsize=(5.5, 5.5))\n",
    "plt.title('One-Sided Paired t-test for MAE')\n",
    "mask = np.zeros_like(binary_value, dtype=np.bool)\n",
    "mask[np.triu_indices_from(mask)] = True\n",
    "\n",
    "ax = sns.heatmap(binary_value, cmap=\"coolwarm\",square=True, annot = True, linecolor='white',linewidths=1.5, mask=mask)"
   ]
  },
  {
   "cell_type": "markdown",
   "metadata": {},
   "source": [
    "## 4.2 MSE"
   ]
  },
  {
   "cell_type": "code",
   "execution_count": 15,
   "metadata": {},
   "outputs": [
    {
     "name": "stdout",
     "output_type": "stream",
     "text": [
      "The mean of MSE in ANN: 4177.433585379901\n",
      "The mean of MSE in SVR: 4210.680305990072\n",
      "The mean of MSE in RFR: 6173.867516390568\n",
      "The median of MSE in ANN: 985.6791113723141\n",
      "The median of MSE in SVR: 997.2910877365691\n",
      "The median of MSE in RFR: 2321.575598384159\n"
     ]
    }
   ],
   "source": [
    "print('The mean of MSE in ANN:',np.mean(ANN['MSE']))\n",
    "print('The mean of MSE in SVR:',np.mean(SVR['MSE']))\n",
    "print('The mean of MSE in RFR:',np.mean(RFR['MSE']))\n",
    "print('The median of MSE in ANN:',np.median(ANN['MSE']))\n",
    "print('The median of MSE in SVR:',np.median(SVR['MSE']))\n",
    "print('The median of MSE in RFR:',np.median(RFR['MSE']))"
   ]
  },
  {
   "cell_type": "code",
   "execution_count": 16,
   "metadata": {},
   "outputs": [
    {
     "data": {
      "text/plain": [
       "[Text(0, 0, 'ANN'), Text(0, 0, 'SVR'), Text(0, 0, 'RFR')]"
      ]
     },
     "execution_count": 16,
     "metadata": {},
     "output_type": "execute_result"
    },
    {
     "data": {
      "image/png": "[encoded data removed]",
      "text/plain": [
       "<Figure size 648x432 with 1 Axes>"
      ]
     },
     "metadata": {
      "needs_background": "light"
     },
     "output_type": "display_data"
    }
   ],
   "source": [
    "MAE_box = [ANN['MSE'],SVR['MSE'],RFR['MSE']]\n",
    "fig = plt.figure(1, figsize=(9, 6))\n",
    "fig.suptitle('MSE')\n",
    "ax = fig.add_subplot(111)\n",
    "\n",
    "bp = ax.boxplot(MAE_box, patch_artist=True)\n",
    "for box in bp['boxes']:\n",
    "    # change outline color\n",
    "    box.set( color='#7570b3', linewidth=2)\n",
    "    # change fill color\n",
    "    box.set( facecolor = '#1b9e77' )\n",
    "\n",
    "## change color and linewidth of the whiskers\n",
    "for whisker in bp['whiskers']:\n",
    "    whisker.set(color='#7570b3', linewidth=2)\n",
    "\n",
    "## change color and linewidth of the caps\n",
    "for cap in bp['caps']:\n",
    "    cap.set(color='#7570b3', linewidth=2)\n",
    "\n",
    "## change color and linewidth of the medians\n",
    "for median in bp['medians']:\n",
    "    median.set(color='#b2df8a', linewidth=2)\n",
    "\n",
    "## change the style of fliers and their fill\n",
    "for flier in bp['fliers']:\n",
    "    flier.set(marker='o', color='#f000ff')\n",
    "    \n",
    "ax.set_xticklabels(['ANN', 'SVR', 'RFR', 'PCA'])"
   ]
  },
  {
   "cell_type": "code",
   "execution_count": 17,
   "metadata": {},
   "outputs": [
    {
     "data": {
      "text/html": [
       "<div>\n",
       "<style scoped>\n",
       "    .dataframe tbody tr th:only-of-type {\n",
       "        vertical-align: middle;\n",
       "    }\n",
       "\n",
       "    .dataframe tbody tr th {\n",
       "        vertical-align: top;\n",
       "    }\n",
       "\n",
       "    .dataframe thead th {\n",
       "        text-align: right;\n",
       "    }\n",
       "</style>\n",
       "<table border=\"1\" class=\"dataframe\">\n",
       "  <thead>\n",
       "    <tr style=\"text-align: right;\">\n",
       "      <th></th>\n",
       "      <th>ANN</th>\n",
       "      <th>SVR</th>\n",
       "      <th>RFR</th>\n",
       "    </tr>\n",
       "  </thead>\n",
       "  <tbody>\n",
       "    <tr>\n",
       "      <th>ANN</th>\n",
       "      <td>NaN</td>\n",
       "      <td>0.001931</td>\n",
       "      <td>0.196850</td>\n",
       "    </tr>\n",
       "    <tr>\n",
       "      <th>SVR</th>\n",
       "      <td>0.001931</td>\n",
       "      <td>NaN</td>\n",
       "      <td>0.200597</td>\n",
       "    </tr>\n",
       "    <tr>\n",
       "      <th>RFR</th>\n",
       "      <td>0.196850</td>\n",
       "      <td>0.200597</td>\n",
       "      <td>NaN</td>\n",
       "    </tr>\n",
       "  </tbody>\n",
       "</table>\n",
       "</div>"
      ],
      "text/plain": [
       "          ANN       SVR       RFR\n",
       "ANN       NaN  0.001931  0.196850\n",
       "SVR  0.001931       NaN  0.200597\n",
       "RFR  0.196850  0.200597       NaN"
      ]
     },
     "execution_count": 17,
     "metadata": {},
     "output_type": "execute_result"
    }
   ],
   "source": [
    "Classifiers = [ANN['MSE'],SVR['MSE'],RFR['MSE']]\n",
    "ClassifiersNames = ['ANN','SVR','RFR']\n",
    "col_pvalue = []\n",
    "for model_i in Classifiers:\n",
    "    row_pvalue = []\n",
    "    for model_j in Classifiers:\n",
    "\n",
    "        c_pvalue = stats.ttest_rel(model_i, model_j).pvalue*0.5\n",
    "        row_pvalue.append(c_pvalue)\n",
    "    col_pvalue.append(row_pvalue)\n",
    "    \n",
    "classifiers_pvalue = pd.DataFrame(col_pvalue, columns=ClassifiersNames, index=ClassifiersNames)\n",
    "classifiers_pvalue"
   ]
  },
  {
   "cell_type": "code",
   "execution_count": 18,
   "metadata": {
    "scrolled": true
   },
   "outputs": [
    {
     "name": "stderr",
     "output_type": "stream",
     "text": [
      "/Users/john_stuart_mill/opt/anaconda3/lib/python3.7/site-packages/ipykernel_launcher.py:1: RuntimeWarning: invalid value encountered in less_equal\n",
      "  \"\"\"Entry point for launching an IPython kernel.\n"
     ]
    },
    {
     "data": {
      "image/png": "[encoded data removed]",
      "text/plain": [
       "<Figure size 396x396 with 2 Axes>"
      ]
     },
     "metadata": {
      "needs_background": "light"
     },
     "output_type": "display_data"
    }
   ],
   "source": [
    "binary_value = pd.DataFrame(np.where(classifiers_pvalue.values <= 0.05,1,0), columns=ClassifiersNames, index=ClassifiersNames)\n",
    "f, ax = plt.subplots(figsize=(5.5, 5.5))\n",
    "plt.title('One-Sided Paired t-test for MSE')\n",
    "mask = np.zeros_like(binary_value, dtype=np.bool)\n",
    "mask[np.triu_indices_from(mask)] = True\n",
    "\n",
    "ax = sns.heatmap(binary_value, cmap=\"coolwarm\",square=True, annot = True, linecolor='white',linewidths=1.5, mask=mask)"
   ]
  },
  {
   "cell_type": "markdown",
   "metadata": {},
   "source": [
    "## 4.3 Efficiency "
   ]
  },
  {
   "cell_type": "code",
   "execution_count": 19,
   "metadata": {},
   "outputs": [
    {
     "name": "stdout",
     "output_type": "stream",
     "text": [
      "The mean of runtime in ANN: 5.359211444854736\n",
      "The mean of runtime in SVR: 0.049860572814941405\n",
      "The mean of runtime in RFR: 36.75118479519998\n",
      "The median of runtime in ANN: 5.347521066665649\n",
      "The median of runtime in SVR: 0.053134918212890625\n",
      "The median of runtime in RFR: 36.77288522649999\n"
     ]
    }
   ],
   "source": [
    "print('The mean of runtime in ANN:',np.mean(ANN['TIME']))\n",
    "print('The mean of runtime in SVR:',np.mean(SVR['TIME']))\n",
    "print('The mean of runtime in RFR:',np.mean(RFR['Runtime']))\n",
    "print('The median of runtime in ANN:',np.median(ANN['TIME']))\n",
    "print('The median of runtime in SVR:',np.median(SVR['TIME']))\n",
    "print('The median of runtime in RFR:',np.median(RFR['Runtime']))"
   ]
  },
  {
   "cell_type": "code",
   "execution_count": 20,
   "metadata": {},
   "outputs": [
    {
     "data": {
      "text/html": [
       "<div>\n",
       "<style scoped>\n",
       "    .dataframe tbody tr th:only-of-type {\n",
       "        vertical-align: middle;\n",
       "    }\n",
       "\n",
       "    .dataframe tbody tr th {\n",
       "        vertical-align: top;\n",
       "    }\n",
       "\n",
       "    .dataframe thead th {\n",
       "        text-align: right;\n",
       "    }\n",
       "</style>\n",
       "<table border=\"1\" class=\"dataframe\">\n",
       "  <thead>\n",
       "    <tr style=\"text-align: right;\">\n",
       "      <th></th>\n",
       "      <th>ANN</th>\n",
       "      <th>SVR</th>\n",
       "      <th>RFR</th>\n",
       "    </tr>\n",
       "  </thead>\n",
       "  <tbody>\n",
       "    <tr>\n",
       "      <th>ANN</th>\n",
       "      <td>NaN</td>\n",
       "      <td>1.401458e-13</td>\n",
       "      <td>1.738719e-06</td>\n",
       "    </tr>\n",
       "    <tr>\n",
       "      <th>SVR</th>\n",
       "      <td>1.401458e-13</td>\n",
       "      <td>NaN</td>\n",
       "      <td>4.278071e-07</td>\n",
       "    </tr>\n",
       "    <tr>\n",
       "      <th>RFR</th>\n",
       "      <td>1.738719e-06</td>\n",
       "      <td>4.278071e-07</td>\n",
       "      <td>NaN</td>\n",
       "    </tr>\n",
       "  </tbody>\n",
       "</table>\n",
       "</div>"
      ],
      "text/plain": [
       "              ANN           SVR           RFR\n",
       "ANN           NaN  1.401458e-13  1.738719e-06\n",
       "SVR  1.401458e-13           NaN  4.278071e-07\n",
       "RFR  1.738719e-06  4.278071e-07           NaN"
      ]
     },
     "execution_count": 20,
     "metadata": {},
     "output_type": "execute_result"
    }
   ],
   "source": [
    "Classifiers = [ANN['TIME'],SVR['TIME'],RFR['Runtime']]\n",
    "ClassifiersNames = ['ANN','SVR','RFR']\n",
    "col_pvalue = []\n",
    "for model_i in Classifiers:\n",
    "    row_pvalue = []\n",
    "    for model_j in Classifiers:\n",
    "\n",
    "        c_pvalue = stats.ttest_rel(model_i, model_j).pvalue*0.5\n",
    "        row_pvalue.append(c_pvalue)\n",
    "    col_pvalue.append(row_pvalue)\n",
    "    \n",
    "classifiers_pvalue = pd.DataFrame(col_pvalue, columns=ClassifiersNames, index=ClassifiersNames)\n",
    "classifiers_pvalue"
   ]
  },
  {
   "cell_type": "code",
   "execution_count": 21,
   "metadata": {},
   "outputs": [
    {
     "name": "stderr",
     "output_type": "stream",
     "text": [
      "/Users/john_stuart_mill/opt/anaconda3/lib/python3.7/site-packages/ipykernel_launcher.py:1: RuntimeWarning: invalid value encountered in less_equal\n",
      "  \"\"\"Entry point for launching an IPython kernel.\n"
     ]
    },
    {
     "data": {
      "image/png": "[encoded data removed]",
      "text/plain": [
       "<Figure size 396x396 with 2 Axes>"
      ]
     },
     "metadata": {
      "needs_background": "light"
     },
     "output_type": "display_data"
    }
   ],
   "source": [
    "binary_value = pd.DataFrame(np.where(classifiers_pvalue.values <= 0.05,1,0), columns=ClassifiersNames, index=ClassifiersNames)\n",
    "f, ax = plt.subplots(figsize=(5.5, 5.5))\n",
    "plt.title('One-Sided Paired t-test for Runtime')\n",
    "mask = np.zeros_like(binary_value, dtype=np.bool)\n",
    "mask[np.triu_indices_from(mask)] = True\n",
    "\n",
    "ax = sns.heatmap(binary_value, cmap=\"coolwarm\",square=True, annot = True, linecolor='white',linewidths=1.5, mask=mask)"
   ]
  }
 ],
 "metadata": {
  "kernelspec": {
   "display_name": "Python 3 (ipykernel)",
   "language": "python",
   "name": "python3"
  },
  "language_info": {
   "codemirror_mode": {
    "name": "ipython",
    "version": 3
   },
   "file_extension": ".py",
   "mimetype": "text/x-python",
   "name": "python",
   "nbconvert_exporter": "python",
   "pygments_lexer": "ipython3",
   "version": "3.8.11"
  },
  "varInspector": {
   "cols": {
    "lenName": 16,
    "lenType": 16,
    "lenVar": 40
   },
   "kernels_config": {
    "python": {
     "delete_cmd_postfix": "",
     "delete_cmd_prefix": "del ",
     "library": "var_list.py",
     "varRefreshCmd": "print(var_dic_list())"
    },
    "r": {
     "delete_cmd_postfix": ") ",
     "delete_cmd_prefix": "rm(",
     "library": "var_list.r",
     "varRefreshCmd": "cat(var_dic_list()) "
    }
   },
   "types_to_exclude": [
    "module",
    "function",
    "builtin_function_or_method",
    "instance",
    "_Feature"
   ],
   "window_display": false
  }
 },
 "nbformat": 4,
 "nbformat_minor": 4
}
